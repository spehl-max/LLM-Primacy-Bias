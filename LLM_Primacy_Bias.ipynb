{
  "cells": [
    {
      "cell_type": "markdown",
      "metadata": {
        "id": "view-in-github",
        "colab_type": "text"
      },
      "source": [
        "<a href=\"https://colab.research.google.com/github/spehl-max/LLM-Primacy-Bias/blob/main/LLM_Primacy_Bias.ipynb\" target=\"_parent\"><img src=\"https://colab.research.google.com/assets/colab-badge.svg\" alt=\"Open In Colab\"/></a>"
      ]
    },
    {
      "cell_type": "markdown",
      "metadata": {
        "id": "JhEDwl7IESf7"
      },
      "source": [
        "# LLM Primacy Bias\n",
        "\n",
        "Written by: Max Spehlmann\\\n",
        "Contact: mspehlm@ncsu.edu\n",
        "\n",
        "Thank you for taking a look at my side project! Feel free to run the code, make changes, and experiment. If you expand on this project, please provide attribution."
      ]
    },
    {
      "cell_type": "markdown",
      "metadata": {
        "id": "iRUWorSKJFZa"
      },
      "source": [
        "# Env Set-Up"
      ]
    },
    {
      "cell_type": "code",
      "execution_count": null,
      "metadata": {
        "id": "AdE-_hjRJMaB",
        "colab": {
          "base_uri": "https://localhost:8080/"
        },
        "outputId": "0732d4a8-1592-41ed-ef79-331c991696ed"
      },
      "outputs": [
        {
          "output_type": "stream",
          "name": "stdout",
          "text": [
            "\u001b[2K     \u001b[90m━━━━━━━━━━━━━━━━━━━━━━━━━━━━━━━━━━━━━━━━\u001b[0m \u001b[32m312.9/312.9 kB\u001b[0m \u001b[31m1.5 MB/s\u001b[0m eta \u001b[36m0:00:00\u001b[0m\n",
            "\u001b[2K     \u001b[90m━━━━━━━━━━━━━━━━━━━━━━━━━━━━━━━━━━━━━━━━\u001b[0m \u001b[32m75.6/75.6 kB\u001b[0m \u001b[31m2.3 MB/s\u001b[0m eta \u001b[36m0:00:00\u001b[0m\n",
            "\u001b[2K     \u001b[90m━━━━━━━━━━━━━━━━━━━━━━━━━━━━━━━━━━━━━━━━\u001b[0m \u001b[32m77.9/77.9 kB\u001b[0m \u001b[31m4.0 MB/s\u001b[0m eta \u001b[36m0:00:00\u001b[0m\n",
            "\u001b[2K     \u001b[90m━━━━━━━━━━━━━━━━━━━━━━━━━━━━━━━━━━━━━━━━\u001b[0m \u001b[32m58.3/58.3 kB\u001b[0m \u001b[31m2.2 MB/s\u001b[0m eta \u001b[36m0:00:00\u001b[0m\n",
            "\u001b[?25h"
          ]
        }
      ],
      "source": [
        "# --- Data Packages ---\n",
        "import pandas as pd\n",
        "import matplotlib.pyplot as plt\n",
        "import ast\n",
        "from scipy.stats import fisher_exact\n",
        "\n",
        "# --- Display utilities ---\n",
        "from IPython.core.display import display, HTML\n",
        "\n",
        "\n",
        "# --- Language Model API Call Dependencies ---\n",
        "!pip -q install openai\n",
        "import os\n",
        "import openai\n",
        "from openai import OpenAI"
      ]
    },
    {
      "cell_type": "code",
      "source": [
        "#provide your openai API key\n",
        "os.environ[\"OPENAI_API_KEY\"] = \"sk-YOUR_KEY_HERE\"\n",
        "\n",
        "client = OpenAI()\n",
        "input_model = \"gpt-3.5-turbo\"\n",
        "input_temperature = 0.8  # this is the default temperature the chatGPT website uses\n",
        "openai.api_key = os.environ.get(\"OPENAI_API_KEY\")"
      ],
      "metadata": {
        "id": "j7v08HnWptgI"
      },
      "execution_count": null,
      "outputs": []
    },
    {
      "cell_type": "markdown",
      "source": [
        "# Redditors Text From The R/Writing *Weekly Critique And Self-Promotion* Thread\n",
        "\n",
        "\n",
        "https://www.reddit.com/r/writing/comments/1cdwgts/weekly_critique_and_selfpromotion_thread_post/\n",
        "\n",
        "*Accessed 5/2/2024*\n"
      ],
      "metadata": {
        "id": "5Xg-xV9WK27d"
      }
    },
    {
      "cell_type": "code",
      "source": [
        "#Written by Connect-News2338\n",
        "\n",
        "text_1 = \"\"\"\n",
        "The Padavapoan royal family might be the only royal family that loves horseback riding as much as the British royals. Although not as committed to the sport as he once was in his 20s, Prince Joseph is still a keen equestrian at the age of 39, and is set to compete in the 1974 Belmont Stakes. As his age and royal duties increase, his ability to compete in the activity that gave him an identity outside of being an obscure prince diminishes. On June 8, the night before the big event, Joseph and his wife, Princess Theresa, are in the middle of their nighttime routine. Joseph brushes his teeth and is ready to go to bed. But he looks at Theresa, who is seated at the nightstand, taking off her makeup with her back to him, and he hesitates. He takes this opportunity to share something that he’s been thinking about for some time. “After the Stakes, I’ll retire from horseback riding.” Theresa at first, smiles with relief, but remembers her husband’s love for the sport, and frowns with concern. “Are you sure? Horseback is what makes you the happiest.” Although Joseph smiles knowing that Theresa is relieved, he gets gloomy while explaining his decision. “It did make me happy. When I wanted a life beyond the confines of royalty. When I didn’t have a wife and two daughters to keep me grounded. Now everytime I’m on the horse I think about you and Margaret and Louise. And how happier we'd be if I wasn’t preoccupied with the racing. It’s time.” Theresa stands and grasps Joseph's hands. “Thank you.” They get into bed and Joseph turns off the light.\n",
        "\"\"\"\n",
        "\n",
        "#Written by ReplacementSalt2432\n",
        "\n",
        "text_2 = \"\"\"\n",
        "It’s funny how memories carve themselves into your soul—the jagged edges of pain etched deeper than any laughter or sunshine. I was 7 when my parents split, and the world split with them. The house became a battleground, and I was the collateral damage. I remember that rainy afternoon, the one where Dad packed his bags, and Mom’s tears blurred the edges of reality. They whispered harsh words, flung accusations like knives. Silence settled in our house like dust. The laughter faded, replaced by the hollow echo of empty rooms. I’d tiptoe past their closed bedroom door, imagining them as strangers. Two people who once loved each other but now couldn’t stand the sight of their own reflections.  They blamed each other, and I blamed myself. Maybe if I’d been a better kid, they’d have stayed. Maybe if I’d drawn happier pictures or aced my math tests, they’d have remembered why they fell in love. But love, it seemed, was a fragile thing, shattered by harsh words and slammed doors. Dad said he’s going to a different country to make money, create a better future …things like that. Somehow, I already knew things wouldn’t never be the same.\n",
        "\"\"\"\n",
        "\n",
        "#Written by gimme-da-zoppity\n",
        "\n",
        "text_3 = \"\"\"\n",
        "Running as fast as he could, Blake tried to catch the bus as it was speeding away. \"Can't be late on my first day,\" he mumbled as he tried everything in his power to catch the rapidly drifting vehicle. It felt like even the bus driver pitied him when he saw, from the rearview mirror, a man in his early twenties, wearing a suit that barely fit him, trying his hardest to catch up because he stopped right after a few seconds of contemplation.\n",
        "\n",
        "When inside, Blake gazed around to find a place where he can sit and maybe tidy himself up a bit before his big day. Towards the back of the bus, he could see a seat empty near a lady who looked to be in her fifties. As soon as he sat down, he made sure that he had everything he needed for his first day at work in his backpack. When the ticket collector eventually came around, Blake handed him a note and mumbled,\n",
        "\n",
        "\"One ticket to the Imperial House”.\n",
        "\n",
        "The ticket collector took the note and asked Blake, while handing him the ticket,\n",
        "\n",
        "“You seem new here”.\n",
        "\n",
        "“You guessed it right. This is my first week in the capital, work takes you places, I guess.”\n",
        "\n",
        "The ticket collector nodded and asked, “So I’m guessing you’re starting at the Imperial House, that looks like a fancy job. What’s your profile, My Liege!” chuckling as he makes that remark.\n",
        "\n",
        "Cracking a forced smile, the young man answered, \"Yeah, yeah, it’s the position of the Supreme Leader’s Secretary.”.\n",
        "\n",
        "This statement garnered quick attention from everyone in the vicinity. People turned around and looked back at the young, shoddily dressed lad who looked like he was starting as a maintenance manager or something.\n",
        "\"\"\"\n",
        "\n"
      ],
      "metadata": {
        "id": "AqMCBJbEK9fw"
      },
      "execution_count": null,
      "outputs": []
    },
    {
      "cell_type": "markdown",
      "metadata": {
        "id": "Nj1EMI0fg1qH"
      },
      "source": [
        "# Prompt Engineering Section"
      ]
    },
    {
      "cell_type": "markdown",
      "source": [
        "### Create Function to Chain The Prompts Together"
      ],
      "metadata": {
        "id": "sD5_7y8kj4oN"
      }
    },
    {
      "cell_type": "code",
      "source": [
        "def summarize_expand_compare_text(original_text, client, comparer_order=\"original_first\"):\n",
        "\n",
        "    summarize_prompt = f\"\"\"\n",
        "    please summarize the following text. Include as much of the key details as possible\n",
        "\n",
        "    {original_text}\n",
        "\n",
        "    Output only the text for the summary below.\n",
        "    \"\"\"\n",
        "\n",
        "    summarizer_response = client.chat.completions.create(\n",
        "        messages=[{\"role\": \"user\", \"content\": summarize_prompt}],\n",
        "        model = input_model,\n",
        "        temperature = input_temperature\n",
        "    ).choices[0].message.content\n",
        "\n",
        "    expander_prompt = f\"\"\"\n",
        "    You are an excellent novelist. Your goal is to use the summary below to draft a scene that will include all the key elements from the summary.\n",
        "\n",
        "    You write in such a way as to maximize the following parameters,\n",
        "\n",
        "    a) the human-sounding voice of the piece.\n",
        "    b) the chance for commercial success of the piece.\n",
        "\n",
        "    {summarizer_response}\n",
        "\n",
        "    Output your scene below.\n",
        "\n",
        "    \"\"\"\n",
        "    synthetic_response = client.chat.completions.create(\n",
        "        messages=[{\"role\": \"user\", \"content\": expander_prompt}],\n",
        "        model = input_model,\n",
        "        temperature = input_temperature\n",
        "    ).choices[0].message.content\n",
        "\n",
        "    if comparer_order == \"original_first\":\n",
        "\n",
        "      comparer_prompt = f\"\"\"\n",
        "      You are an experienced editor comparing two pieces of writing.\n",
        "\n",
        "      You are interested in determing the following,\n",
        "\n",
        "      Which piece, 1 or 2,\n",
        "\n",
        "      a) is more likely to be written by a human?\n",
        "      b) has a higher chance of commercial success?\n",
        "\n",
        "      Here are the two pieces,\n",
        "\n",
        "      Piece 1,\n",
        "\n",
        "      {synthetic_response}\n",
        "\n",
        "      Piece 2,\n",
        "\n",
        "      {original_text}\n",
        "\n",
        "      Think carefully. Reread the passages, and take your time.\n",
        "\n",
        "      Write a brief paragraph explaining your assessment, followed by a line break.\n",
        "      Then, indicate the number of the piece you chose for each question by typing 'x,x', where `x` is the number, `1` or `2`, that you selected for that question.\n",
        "\n",
        "      So a sample response would be:\n",
        "\n",
        "      [Your explanation]\n",
        "      [Line Break]\n",
        "      [x,x]\n",
        "\n",
        "      \"\"\"\n",
        "\n",
        "    elif comparer_order == \"synthetic_first\":\n",
        "\n",
        "      comparer_prompt = f\"\"\"\n",
        "      You are an experienced editor comparing two pieces of writing.\n",
        "\n",
        "      You are interested in determing the following,\n",
        "\n",
        "      Which piece, 1 or 2,\n",
        "\n",
        "      a) is more likely to be written by a human?\n",
        "      b) has a higher chance of commercial success?\n",
        "\n",
        "      Here are the two pieces,\n",
        "\n",
        "      Piece 1,\n",
        "\n",
        "      {synthetic_response}\n",
        "\n",
        "      Piece 2,\n",
        "\n",
        "      {original_text}\n",
        "\n",
        "      Think carefully. Reread the passages, and take your time.\n",
        "\n",
        "      Write a brief paragraph explaining your assessment, followed by a line break.\n",
        "      Then, indicate the number of the piece you chose for each question by typing 'x,x', where `x` is the number, `1` or `2`, that you selected for that question.\n",
        "\n",
        "      So a sample response would be:\n",
        "\n",
        "      [Your explanation]\n",
        "      [Line Break]\n",
        "      [x,x]\n",
        "\n",
        "      \"\"\"\n",
        "\n",
        "    comparer_response = client.chat.completions.create(\n",
        "        messages=[{\"role\": \"user\", \"content\": comparer_prompt}],\n",
        "        model = input_model,\n",
        "        temperature = input_temperature\n",
        "    ).choices[0].message.content\n",
        "\n",
        "    return {\n",
        "        \"Summarized Text\": summarizer_response,\n",
        "        \"Synthetic Text\": synthetic_response,\n",
        "        \"Comparer Text\": comparer_response\n",
        "    }"
      ],
      "metadata": {
        "id": "Tm6SnL7k646h"
      },
      "execution_count": null,
      "outputs": []
    },
    {
      "cell_type": "markdown",
      "source": [
        "## Try With Original Text First"
      ],
      "metadata": {
        "id": "5-Qnxght8zwZ"
      }
    },
    {
      "cell_type": "code",
      "source": [
        "results = summarize_expand_compare_text(text_1, client, comparer_order=\"original_first\")\n",
        "\n",
        "print(\"Summarized Text:\\n\")\n",
        "print(results['Summarized Text'])\n",
        "print(\"\\nSynthetic Text:\\n\")\n",
        "print(results['Synthetic Text'])\n",
        "print(\"\\nComparer Text:\\n\")\n",
        "print(results['Comparer Text'])"
      ],
      "metadata": {
        "colab": {
          "base_uri": "https://localhost:8080/"
        },
        "id": "z3yTlEQW6_8B",
        "outputId": "b17dd709-8331-4740-fbfe-c286ef2d379f"
      },
      "execution_count": null,
      "outputs": [
        {
          "output_type": "stream",
          "name": "stdout",
          "text": [
            "Summarized Text:\n",
            "\n",
            "Prince Joseph of the Padavapoan royal family, known for his love of horseback riding, decides to retire from the sport after competing in the 1974 Belmont Stakes. His decision is motivated by his growing royal duties and his desire to focus on his wife and daughters. Princess Theresa supports his decision, despite knowing how much he loves horseback riding.\n",
            "\n",
            "Synthetic Text:\n",
            "\n",
            "As the sun began to set over the royal stables, Prince Joseph stood in front of his favorite horse, Apollo, a mix of emotions swirling in his heart. The vibrant colors of the sky reflected in Apollo's glossy coat, creating a surreal moment of beauty and tranquility.\n",
            "\n",
            "\"Are you sure about this, my love?\" Princess Theresa asked softly, her hand reaching out to touch his arm.\n",
            "\n",
            "Prince Joseph turned to look at her, seeing the worry and love shining in her eyes. \"I am, Theresa. I have to put my duties to our kingdom first. It's time for me to retire from horseback riding.\"\n",
            "\n",
            "Princess Theresa nodded, a small smile tugging at the corners of her lips. \"I understand, Joseph. I know how much you love riding, but I also know how much you love our family. You've always been a devoted husband and father, and I support whatever decision you make.\"\n",
            "\n",
            "Tears pricked at the corners of Prince Joseph's eyes as he looked back at Apollo, the memories of their victories together flooding his mind. But he knew that his place was by Theresa's side, guiding their daughters and fulfilling his royal responsibilities.\n",
            "\n",
            "Taking a deep breath, Prince Joseph gently stroked Apollo's mane one last time before turning to Princess Theresa. \"Thank you, my love. I couldn't do this without your support. Let's go back to the palace and begin this new chapter of our lives together.\"\n",
            "\n",
            "And as they walked hand in hand towards the palace, the setting sun casting a golden glow over their path, Prince Joseph felt a sense of peace and contentment knowing that he was exactly where he was meant to be.\n",
            "\n",
            "Comparer Text:\n",
            "\n",
            "After comparing both pieces of writing, it is clear that Piece 1 is more likely to be written by a human due to its rich emotional depth and detailed character interactions. Piece 1 also has a higher chance of commercial success as it appeals to a wider audience with its focus on love, family, and duty. In terms of writing quality, Piece 1 is better-written overall with its vivid descriptions and emotional impact. Additionally, Piece 1 is more interesting as it explores complex emotions and character development in a relatable and engaging way.\n",
            "x,x\n"
          ]
        }
      ]
    },
    {
      "cell_type": "markdown",
      "source": [
        "## Try With Synthetic Text First"
      ],
      "metadata": {
        "id": "XEd34xAL82qX"
      }
    },
    {
      "cell_type": "code",
      "source": [
        "results = summarize_expand_compare_text(text_1, client, comparer_order=\"synthetic_first\")\n",
        "\n",
        "print(\"Summarized Text:\\n\")\n",
        "print(results['Summarized Text'])\n",
        "print(\"\\nSynthetic Text:\\n\")\n",
        "print(results['Synthetic Text'])\n",
        "print(\"\\nComparer Text:\\n\")\n",
        "print(results['Comparer Text'])"
      ],
      "metadata": {
        "colab": {
          "base_uri": "https://localhost:8080/"
        },
        "id": "5tfvL3cN8HLe",
        "outputId": "1d0d4f42-45c5-412e-f0f9-4ad288e6680c"
      },
      "execution_count": null,
      "outputs": [
        {
          "output_type": "stream",
          "name": "stdout",
          "text": [
            "Summarized Text:\n",
            "\n",
            "Prince Joseph of the Padavapoan royal family is a keen equestrian set to compete in the 1974 Belmont Stakes. However, he decides to retire from horseback riding after the event, feeling that his family is what truly makes him happy. His wife, Princess Theresa, supports his decision.\n",
            "\n",
            "Synthetic Text:\n",
            "\n",
            "As the sun began to set on the grounds of Belmont Park, Prince Joseph of Padavapoan sat atop his prized stallion, Thunderbolt, preparing for his final race. The crowd buzzed with excitement, eager to see the royal equestrian in action.\n",
            "\n",
            "But as the starting gates opened and Thunderbolt thundered down the track, something inside Prince Joseph shifted. He no longer felt the same thrill he once did, the same rush of adrenaline that had driven him to compete in races all around the world.\n",
            "\n",
            "As he crossed the finish line in a respectable third place, Prince Joseph knew that this would be his last race. He dismounted from Thunderbolt, a bittersweet smile on his face as he stroked the horse's mane one last time.\n",
            "\n",
            "Princess Theresa, his ever-supportive wife, waited for him at the paddock. She knew what was coming before he even said a word. \"I've decided to retire from horseback riding,\" he said softly, looking into her eyes for reassurance.\n",
            "\n",
            "She wrapped her arms around him, her embrace warm and comforting. \"I support you, my love. Your happiness is what matters most to me, not the thrill of the race.\"\n",
            "\n",
            "And with that, Prince Joseph made his decision official. He would hang up his riding boots and focus on what truly brought him joy - his family, his wife, and the future they would build together.\n",
            "\n",
            "The crowd may have been disappointed at his sudden retirement, but for Prince Joseph, the applause of the people paled in comparison to the love and support of his beloved Princess Theresa. And as they walked hand in hand towards their future, he knew he had made the right choice.\n",
            "\n",
            "Comparer Text:\n",
            "\n",
            "Piece 1 is more likely to be written by a human as it delves into the emotional journey of Prince Joseph and his decision to retire from horseback riding, incorporating elements of love, family, and personal growth. This piece is also more likely to have commercial success as it offers a heartfelt and relatable story that can resonate with a wide audience. In terms of being better-written overall, Piece 1 excels in its descriptive language, character development, and emotional depth, making it a more engaging and well-crafted narrative. Lastly, Piece 1 is more interesting as it explores themes of sacrifice, love, and personal fulfillment, drawing readers in with its emotional resonance and heartfelt storytelling.\n",
            "\n",
            "1,1\n"
          ]
        }
      ]
    },
    {
      "cell_type": "markdown",
      "source": [
        "#Run Experiment"
      ],
      "metadata": {
        "id": "6bCBN5AHQ8pG"
      }
    },
    {
      "cell_type": "code",
      "source": [
        "def process_excerpts(excerpts):\n",
        "    data = []\n",
        "    for i, excerpt in enumerate(excerpts):\n",
        "        for j in range(10):  # Run 5 times with original first, then 5 times with synthetic first\n",
        "            comparer_order = \"original_first\" if j < 5 else \"synthetic_first\"\n",
        "            response = summarize_expand_compare_text(excerpt, client, comparer_order)\n",
        "            comparer_output_str = response[\"Comparer Text\"].split(\"\\n\")[-1].strip()\n",
        "\n",
        "            # Check if the comparer output string is in the expected format\n",
        "            if ',' not in comparer_output_str:\n",
        "                # Handle the case where the output is not in the expected format\n",
        "                print(\"Warning: Unexpected format for comparer output:\", comparer_output_str)\n",
        "                continue\n",
        "\n",
        "            # Split the comparer output string by comma and check if both parts are integers\n",
        "            output_parts = comparer_output_str.split(\",\")\n",
        "            if len(output_parts) != 2 or not all(part.strip().isdigit() for part in output_parts):\n",
        "                # Handle the case where the output is not in the expected format\n",
        "                print(\"Warning: Unexpected format for comparer output:\", comparer_output_str)\n",
        "                continue\n",
        "\n",
        "            comparer_output = tuple(map(int, output_parts))\n",
        "            data.append({\n",
        "                \"Text Number\": i + 1,\n",
        "                \"First Piece\": comparer_order.split(\"_\")[0].capitalize(),\n",
        "                \"Human Sounding\": comparer_output[0],\n",
        "                \"Commercial Success\": comparer_output[1]\n",
        "            })\n",
        "    return pd.DataFrame(data)"
      ],
      "metadata": {
        "id": "-qi_pGx5Q_n9"
      },
      "execution_count": null,
      "outputs": []
    },
    {
      "cell_type": "markdown",
      "source": [
        "#Create Bar Charts"
      ],
      "metadata": {
        "id": "lyjnn4dX88NB"
      }
    },
    {
      "cell_type": "code",
      "source": [
        "def plot_counts(results, group_by_column, legend_title):\n",
        "    # Group by 'First Piece' and the specified column, count occurrences\n",
        "    counts = results.groupby(['First Piece', group_by_column]).size().unstack()\n",
        "\n",
        "    # Plot\n",
        "    ax = counts.plot(kind='bar', stacked=False)\n",
        "    ax.set_xlabel('First Piece')\n",
        "    ax.set_ylabel('Counts')\n",
        "    plt.xticks(rotation=0)\n",
        "    plt.legend(title=legend_title)\n",
        "    plt.show()\n",
        "\n",
        "# Plot for 'Human Sounding'\n",
        "plot_counts(results, 'Human Sounding', 'Piece Selected For Human Sounding')\n",
        "\n",
        "# Plot for 'Commercial Success'\n",
        "plot_counts(results, 'Commercial Success', 'Piece Selected For Commercial Success')"
      ],
      "metadata": {
        "colab": {
          "base_uri": "https://localhost:8080/",
          "height": 881
        },
        "id": "SrV6r3fU0hEF",
        "outputId": "e66180d7-95be-4405-f776-36857548e9d1"
      },
      "execution_count": null,
      "outputs": [
        {
          "output_type": "display_data",
          "data": {
            "text/plain": [
              "<Figure size 640x480 with 1 Axes>"
            ],
            "image/png": "[encoded data removed]"
          },
          "metadata": {}
        },
        {
          "output_type": "display_data",
          "data": {
            "text/plain": [
              "<Figure size 640x480 with 1 Axes>"
            ],
            "image/png": "[encoded data removed]"
          },
          "metadata": {}
        }
      ]
    }
  ],
  "metadata": {
    "colab": {
      "provenance": [],
      "toc_visible": true,
      "include_colab_link": true
    },
    "kernelspec": {
      "display_name": "Python 3",
      "name": "python3"
    },
    "language_info": {
      "name": "python"
    }
  },
  "nbformat": 4,
  "nbformat_minor": 0
}