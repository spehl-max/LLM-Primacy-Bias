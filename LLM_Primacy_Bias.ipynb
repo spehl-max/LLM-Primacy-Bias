{
  "cells": [
    {
      "cell_type": "markdown",
      "metadata": {
        "id": "view-in-github",
        "colab_type": "text"
      },
      "source": [
        "<a href=\"https://colab.research.google.com/github/spehl-max/LLM-Primacy-Bias/blob/main/LLM_Primacy_Bias.ipynb\" target=\"_parent\"><img src=\"https://colab.research.google.com/assets/colab-badge.svg\" alt=\"Open In Colab\"/></a>"
      ]
    },
    {
      "cell_type": "markdown",
      "metadata": {
        "id": "JhEDwl7IESf7"
      },
      "source": [
        "# LLM Primacy Bias\n",
        "\n",
        "Written by: Max Spehlmann\\\n",
        "Contact: mspehlm@ncsu.edu\n",
        "\n",
        "Thank you for taking a look at my side project! Feel free to run the code, make changes, and experiment. If you expand on this project, please provide attribution."
      ]
    },
    {
      "cell_type": "markdown",
      "metadata": {
        "id": "iRUWorSKJFZa"
      },
      "source": [
        "# Env Set-Up"
      ]
    },
    {
      "cell_type": "code",
      "execution_count": null,
      "metadata": {
        "id": "AdE-_hjRJMaB"
      },
      "outputs": [],
      "source": [
        "# --- Data Packages ---\n",
        "import pandas as pd\n",
        "import matplotlib.pyplot as plt\n",
        "import ast\n",
        "from scipy.stats import chi2_contingency\n",
        "\n",
        "# --- Display utilities ---\n",
        "from IPython.core.display import display, HTML\n",
        "\n",
        "\n",
        "# --- Language Model API Call Dependencies ---\n",
        "!pip -q install openai\n",
        "import os\n",
        "import openai\n",
        "from openai import OpenAI"
      ]
    },
    {
      "cell_type": "code",
      "source": [
        "#provide your openai API key\n",
        "os.environ[\"OPENAI_API_KEY\"] = \"sk-YOUR_KEY_HERE\"\n",
        "\n",
        "client = OpenAI()\n",
        "input_model = \"gpt-3.5-turbo\"\n",
        "input_temperature = 0.8  # Set the temperature here\n",
        "\n",
        "openai.api_key = os.environ.get(\"OPENAI_API_KEY\")"
      ],
      "metadata": {
        "id": "j7v08HnWptgI"
      },
      "execution_count": null,
      "outputs": []
    },
    {
      "cell_type": "markdown",
      "source": [
        "# Redditors Text From The R/Writing *Weekly Critique And Self-Promotion* Thread\n",
        "\n",
        "\n",
        "https://www.reddit.com/r/writing/comments/1cdwgts/weekly_critique_and_selfpromotion_thread_post/\n",
        "\n",
        "*Accessed 5/2/2024*\n"
      ],
      "metadata": {
        "id": "5Xg-xV9WK27d"
      }
    },
    {
      "cell_type": "code",
      "source": [
        "#Written by Connect-News2338\n",
        "\n",
        "text_1 = \"\"\"\n",
        "The Padavapoan royal family might be the only royal family that loves horseback riding as much as the British royals. Although not as committed to the sport as he once was in his 20s, Prince Joseph is still a keen equestrian at the age of 39, and is set to compete in the 1974 Belmont Stakes. As his age and royal duties increase, his ability to compete in the activity that gave him an identity outside of being an obscure prince diminishes. On June 8, the night before the big event, Joseph and his wife, Princess Theresa, are in the middle of their nighttime routine. Joseph brushes his teeth and is ready to go to bed. But he looks at Theresa, who is seated at the nightstand, taking off her makeup with her back to him, and he hesitates. He takes this opportunity to share something that he’s been thinking about for some time. “After the Stakes, I’ll retire from horseback riding.” Theresa at first, smiles with relief, but remembers her husband’s love for the sport, and frowns with concern. “Are you sure? Horseback is what makes you the happiest.” Although Joseph smiles knowing that Theresa is relieved, he gets gloomy while explaining his decision. “It did make me happy. When I wanted a life beyond the confines of royalty. When I didn’t have a wife and two daughters to keep me grounded. Now everytime I’m on the horse I think about you and Margaret and Louise. And how happier we'd be if I wasn’t preoccupied with the racing. It’s time.” Theresa stands and grasps Joseph's hands. “Thank you.” They get into bed and Joseph turns off the light.\n",
        "\"\"\"\n",
        "\n",
        "#Written by ReplacementSalt2432\n",
        "\n",
        "text_2 = \"\"\"\n",
        "It’s funny how memories carve themselves into your soul—the jagged edges of pain etched deeper than any laughter or sunshine. I was 7 when my parents split, and the world split with them. The house became a battleground, and I was the collateral damage. I remember that rainy afternoon, the one where Dad packed his bags, and Mom’s tears blurred the edges of reality. They whispered harsh words, flung accusations like knives. Silence settled in our house like dust. The laughter faded, replaced by the hollow echo of empty rooms. I’d tiptoe past their closed bedroom door, imagining them as strangers. Two people who once loved each other but now couldn’t stand the sight of their own reflections.  They blamed each other, and I blamed myself. Maybe if I’d been a better kid, they’d have stayed. Maybe if I’d drawn happier pictures or aced my math tests, they’d have remembered why they fell in love. But love, it seemed, was a fragile thing, shattered by harsh words and slammed doors. Dad said he’s going to a different country to make money, create a better future …things like that. Somehow, I already knew things wouldn’t never be the same.\n",
        "\"\"\"\n",
        "\n",
        "#Written by gimme-da-zoppity\n",
        "\n",
        "text_3 = \"\"\"\n",
        "Running as fast as he could, Blake tried to catch the bus as it was speeding away. \"Can't be late on my first day,\" he mumbled as he tried everything in his power to catch the rapidly drifting vehicle. It felt like even the bus driver pitied him when he saw, from the rearview mirror, a man in his early twenties, wearing a suit that barely fit him, trying his hardest to catch up because he stopped right after a few seconds of contemplation.\n",
        "\n",
        "When inside, Blake gazed around to find a place where he can sit and maybe tidy himself up a bit before his big day. Towards the back of the bus, he could see a seat empty near a lady who looked to be in her fifties. As soon as he sat down, he made sure that he had everything he needed for his first day at work in his backpack. When the ticket collector eventually came around, Blake handed him a note and mumbled,\n",
        "\n",
        "\"One ticket to the Imperial House”.\n",
        "\n",
        "The ticket collector took the note and asked Blake, while handing him the ticket,\n",
        "\n",
        "“You seem new here”.\n",
        "\n",
        "“You guessed it right. This is my first week in the capital, work takes you places, I guess.”\n",
        "\n",
        "The ticket collector nodded and asked, “So I’m guessing you’re starting at the Imperial House, that looks like a fancy job. What’s your profile, My Liege!” chuckling as he makes that remark.\n",
        "\n",
        "Cracking a forced smile, the young man answered, \"Yeah, yeah, it’s the position of the Supreme Leader’s Secretary.”.\n",
        "\n",
        "This statement garnered quick attention from everyone in the vicinity. People turned around and looked back at the young, shoddily dressed lad who looked like he was starting as a maintenance manager or something.\n",
        "\"\"\"\n",
        "\n"
      ],
      "metadata": {
        "id": "AqMCBJbEK9fw"
      },
      "execution_count": null,
      "outputs": []
    },
    {
      "cell_type": "markdown",
      "metadata": {
        "id": "Nj1EMI0fg1qH"
      },
      "source": [
        "# Prompt Engineering Section"
      ]
    },
    {
      "cell_type": "markdown",
      "source": [
        "### Create Function to Chain The Prompts Together"
      ],
      "metadata": {
        "id": "sD5_7y8kj4oN"
      }
    },
    {
      "cell_type": "code",
      "source": [
        "def summarize_expand_compare_text(original_text, client, comparer_order=\"original_first\"):\n",
        "\n",
        "    summarize_prompt = f\"\"\"\n",
        "    please summarize the following text. Include as much of the key details as possible\n",
        "\n",
        "    {original_text}\n",
        "\n",
        "    Output only the text for the summary below.\n",
        "    \"\"\"\n",
        "\n",
        "    summarizer_response = client.chat.completions.create(\n",
        "        messages=[{\"role\": \"user\", \"content\": summarize_prompt}],\n",
        "        model = input_model,\n",
        "        temperature = input_temperature\n",
        "    ).choices[0].message.content\n",
        "\n",
        "    expander_prompt = f\"\"\"\n",
        "    You are an excellent novelist. Your goal is to use the summary below to draft a scene that will include all the key elements from the summary.\n",
        "\n",
        "    You write in such a way as to maximize the following parameters,\n",
        "\n",
        "    a) the human-sounding voice of the piece.\n",
        "    b) the chance for commercial success of the piece.\n",
        "\n",
        "    {summarizer_response}\n",
        "\n",
        "    Output your scene below.\n",
        "\n",
        "    \"\"\"\n",
        "    synthetic_response = client.chat.completions.create(\n",
        "        messages=[{\"role\": \"user\", \"content\": expander_prompt}],\n",
        "        model = input_model,\n",
        "        temperature = input_temperature\n",
        "    ).choices[0].message.content\n",
        "\n",
        "    if comparer_order == \"original_first\":\n",
        "\n",
        "      comparer_prompt = f\"\"\"\n",
        "      You are an experienced editor comparing two pieces of writing.\n",
        "\n",
        "      You are interested in determing the following,\n",
        "\n",
        "      Which piece, 1 or 2,\n",
        "\n",
        "      a) is more likely to be written by a human?\n",
        "      b) has a higher chance of commercial success?\n",
        "\n",
        "      Here are the two pieces,\n",
        "\n",
        "      Piece 1,\n",
        "\n",
        "      {synthetic_response}\n",
        "\n",
        "      Piece 2,\n",
        "\n",
        "      {original_text}\n",
        "\n",
        "      Think carefully. Reread the passages, and take your time.\n",
        "\n",
        "      Write a brief paragraph explaining your assessment, followed by a line break.\n",
        "      Then, indicate the number of the piece you chose for each question by typing: 'x,x', where `x` is the number, `1` or `2`, that you selected for question a and b, respectively.\n",
        "\n",
        "      So a sample response would be:\n",
        "\n",
        "      [Your explanation]\n",
        "      [Line Break]\n",
        "      [x,x]\n",
        "\n",
        "      \"\"\"\n",
        "\n",
        "    elif comparer_order == \"synthetic_first\":\n",
        "\n",
        "      comparer_prompt = f\"\"\"\n",
        "      You are an experienced editor comparing two pieces of writing.\n",
        "\n",
        "      You are interested in determing the following,\n",
        "\n",
        "      Which piece, 1 or 2,\n",
        "\n",
        "      a) is more likely to be written by a human?\n",
        "      b) has a higher chance of commercial success?\n",
        "\n",
        "      Here are the two pieces,\n",
        "\n",
        "      Piece 1,\n",
        "\n",
        "      {synthetic_response}\n",
        "\n",
        "      Piece 2,\n",
        "\n",
        "      {original_text}\n",
        "\n",
        "      Think carefully. Reread the passages, and take your time.\n",
        "\n",
        "      Write a brief paragraph explaining your assessment, followed by a line break.\n",
        "      Then, indicate the number of the piece you chose for each question by typing: 'x,x', where `x` is the number, `1` or `2`, that you selected for question a and b, respectively.\n",
        "\n",
        "      So a sample response would be:\n",
        "\n",
        "      [Your explanation]\n",
        "      [Line Break]\n",
        "      [x,x]\n",
        "\n",
        "      \"\"\"\n",
        "\n",
        "    comparer_response = client.chat.completions.create(\n",
        "        messages=[{\"role\": \"user\", \"content\": comparer_prompt}],\n",
        "        model = input_model,\n",
        "        temperature = input_temperature\n",
        "    ).choices[0].message.content\n",
        "\n",
        "    return {\n",
        "        \"Summarized Text\": summarizer_response,\n",
        "        \"Synthetic Text\": synthetic_response,\n",
        "        \"Comparer Text\": comparer_response\n",
        "    }"
      ],
      "metadata": {
        "id": "Tm6SnL7k646h"
      },
      "execution_count": null,
      "outputs": []
    },
    {
      "cell_type": "markdown",
      "source": [
        "## Try With Original Text First"
      ],
      "metadata": {
        "id": "5-Qnxght8zwZ"
      }
    },
    {
      "cell_type": "code",
      "source": [
        "results = summarize_expand_compare_text(text_1, client, comparer_order=\"original_first\")\n",
        "\n",
        "print(\"Summarized Text:\\n\")\n",
        "print(results['Summarized Text'])\n",
        "print(\"\\nSynthetic Text:\\n\")\n",
        "print(results['Synthetic Text'])\n",
        "print(\"\\nComparer Text:\\n\")\n",
        "print(results['Comparer Text'])"
      ],
      "metadata": {
        "colab": {
          "base_uri": "https://localhost:8080/"
        },
        "id": "z3yTlEQW6_8B",
        "outputId": "8fec1eca-aeb6-4f1c-bacd-a7f54d6f2495"
      },
      "execution_count": null,
      "outputs": [
        {
          "output_type": "stream",
          "name": "stdout",
          "text": [
            "Summarized Text:\n",
            "\n",
            "Prince Joseph, a member of the Padavapoan royal family, announces to his wife Princess Theresa that he will retire from horseback riding after the Belmont Stakes. Despite his love for the sport, he wants to prioritize his family and royal duties. Theresa is initially relieved but becomes concerned for her husband's happiness. They share a somber moment before going to bed.\n",
            "\n",
            "Synthetic Text:\n",
            "\n",
            "As the sun began to set over the Padavapoan kingdom, Prince Joseph found himself standing in the stables, gently stroking the mane of his favorite horse. Princess Theresa approached him, her elegant gown rustling softly with each step.\n",
            "\n",
            "\"Joseph, what are you doing out here?\" she asked, her voice filled with concern.\n",
            "\n",
            "He turned to face her, a somber expression on his face. \"Theresa, I have something important to tell you. After the Belmont Stakes, I will be retiring from horseback riding.\"\n",
            "\n",
            "Theresa's eyes widened in surprise. \"But Joseph, you love riding. Why would you give it up?\"\n",
            "\n",
            "Joseph sighed and took her hand in his. \"I want to focus on our family and my royal duties. It's time for me to prioritize what truly matters.\"\n",
            "\n",
            "At first, Theresa felt a wave of relief wash over her. She had always worried about Joseph's safety when he was out on the racetrack. But as she looked into his eyes, she saw a hint of sadness that tugged at her heart.\n",
            "\n",
            "\"Are you sure this is what you want, Joseph?\" she asked softly.\n",
            "\n",
            "He nodded, a determined look in his eyes. \"I am sure, Theresa. I want to be the best husband and prince I can be, and that means making sacrifices for the greater good.\"\n",
            "\n",
            "They stood there in silence for a moment, the only sound the soft whinnies of the horses in their stalls. Then, without a word, they turned and walked back to the palace hand in hand.\n",
            "\n",
            "That night, as they lay in bed together, Theresa couldn't shake the feeling of unease that had settled in her chest. She knew that Joseph's decision was a noble one, but she couldn't help but worry about his happiness.\n",
            "\n",
            "As they drifted off to sleep, she whispered a silent prayer for her beloved husband, hoping that he would find fulfillment in his new path, even as she held him close, knowing that she would always be by his side, no matter what.\n",
            "\n",
            "Comparer Text:\n",
            "\n",
            "Piece 1 is more likely to be written by a human as it contains more intricate details and emotions that are typically associated with human experiences. However, Piece 2 has a higher chance of commercial success as it is more concise and focused on the central plot points, making it easier to adapt for a wider audience. \n",
            "\n",
            "1,2\n"
          ]
        }
      ]
    },
    {
      "cell_type": "markdown",
      "source": [
        "## Try With Synthetic Text First"
      ],
      "metadata": {
        "id": "XEd34xAL82qX"
      }
    },
    {
      "cell_type": "code",
      "source": [
        "results = summarize_expand_compare_text(text_1, client, comparer_order=\"synthetic_first\")\n",
        "\n",
        "print(\"Summarized Text:\\n\")\n",
        "print(results['Summarized Text'])\n",
        "print(\"\\nSynthetic Text:\\n\")\n",
        "print(results['Synthetic Text'])\n",
        "print(\"\\nComparer Text:\\n\")\n",
        "print(results['Comparer Text'])"
      ],
      "metadata": {
        "colab": {
          "base_uri": "https://localhost:8080/"
        },
        "id": "5tfvL3cN8HLe",
        "outputId": "4b0c18ff-48eb-4235-fe7b-75a9384684b5"
      },
      "execution_count": null,
      "outputs": [
        {
          "output_type": "stream",
          "name": "stdout",
          "text": [
            "Summarized Text:\n",
            "\n",
            "Prince Joseph, a member of the Padavapoan royal family, is a keen equestrian set to compete in the 1974 Belmont Stakes. Despite his love for horseback riding, he decides to retire from the sport after the event, feeling that his focus should be on his family. His decision brings relief to his wife, Princess Theresa, but also concern for his happiness.\n",
            "\n",
            "Synthetic Text:\n",
            "\n",
            "The sun beat down on the bustling Belmont Stakes grounds as Prince Joseph rode his magnificent horse, Thunderbolt, through the crowds of cheering spectators. The prince's face was a mask of concentration, his elegant posture and steady hands showcasing years of dedication to the sport of horseback riding.\n",
            "\n",
            "As he guided Thunderbolt through the challenging course, Prince Joseph couldn't help but feel a twinge of sadness. This would be his last race, his final hurrah as a competitive equestrian. Despite his love for riding, he knew deep down that his priorities had shifted. His family needed him more than the thrill of victory ever could.\n",
            "\n",
            "Princess Theresa stood at the sidelines, her heart in her throat as she watched her husband's final ride. She knew how much this moment meant to him, but she also understood his decision to retire. She had seen the toll that training and competing had taken on him, and she longed for the days when they could simply enjoy each other's company without the pressures of the royal spotlight.\n",
            "\n",
            "As Prince Joseph crossed the finish line, a mix of emotions washed over him. Relief that the race was over, pride in his performance, but also a sense of closure. He dismounted Thunderbolt and walked over to where Princess Theresa was waiting, a small smile playing on his lips.\n",
            "\n",
            "\"I did it,\" he said quietly, his eyes meeting hers with a mixture of sadness and joy. \"But it's time to hang up my riding boots. My place is with you and our family now.\"\n",
            "\n",
            "Princess Theresa's eyes filled with tears, both grateful and worried for her husband's happiness. She took his hand and squeezed it tightly, knowing that their journey together was far from over. And as they walked away from the racetrack, hand in hand, Prince Joseph felt a sense of peace settle over him. Retirement may be bittersweet, but the love of his family would always be his greatest victory.\n",
            "\n",
            "Comparer Text:\n",
            "\n",
            "Piece 1 showcases a more emotional and nuanced exploration of the characters' feelings and relationships, with a focus on family and personal growth. The writing is descriptive and evocative, drawing the reader into the story and creating a sense of depth. Piece 2, on the other hand, feels more straightforward and lacks the same level of emotional depth and complexity. It focuses more on the surface level details of the characters' actions and decisions. In terms of being more likely to be written by a human, Piece 1 stands out for its rich character development and storytelling. For commercial success, Piece 1 also has a higher chance due to its engaging narrative and emotional resonance with readers.\n",
            "\n",
            "1,1\n"
          ]
        }
      ]
    },
    {
      "cell_type": "markdown",
      "source": [
        "#Run Experiment"
      ],
      "metadata": {
        "id": "6bCBN5AHQ8pG"
      }
    },
    {
      "cell_type": "code",
      "source": [
        "def process_excerpts(excerpts):\n",
        "    data = []\n",
        "    for i, excerpt in enumerate(excerpts):\n",
        "        for j in range(30):  # Run 15 times with original first, then 15 times with synthetic first\n",
        "            comparer_order = \"original_first\" if j < 15 else \"synthetic_first\"\n",
        "            response = summarize_expand_compare_text(excerpt, client, comparer_order)\n",
        "            comparer_output_str = response[\"Comparer Text\"].split(\"\\n\")[-1].strip()\n",
        "\n",
        "            # Check if the comparer output string is in the expected format\n",
        "            if ',' not in comparer_output_str:\n",
        "                # Handle the case where the output is not in the expected format\n",
        "                print(\"Warning: Unexpected format for comparer output:\", comparer_output_str)\n",
        "                continue\n",
        "\n",
        "            # Split the comparer output string by comma and check if both parts are integers\n",
        "            output_parts = comparer_output_str.split(\",\")\n",
        "            if len(output_parts) != 2 or not all(part.strip().isdigit() for part in output_parts):\n",
        "                # Handle the case where the output is not in the expected format\n",
        "                print(\"Warning: Unexpected format for comparer output:\", comparer_output_str)\n",
        "                continue\n",
        "\n",
        "            comparer_output = tuple(map(int, output_parts))\n",
        "            data.append({\n",
        "                \"Text Number\": i + 1,\n",
        "                \"First Piece\": comparer_order.split(\"_\")[0].capitalize(),\n",
        "                \"Human Sounding\": comparer_output[0],\n",
        "                \"Commercial Success\": comparer_output[1]\n",
        "            })\n",
        "    return pd.DataFrame(data)"
      ],
      "metadata": {
        "id": "-qi_pGx5Q_n9"
      },
      "execution_count": null,
      "outputs": []
    },
    {
      "cell_type": "code",
      "source": [
        "results = process_excerpts([text_1, text_2, text_3])"
      ],
      "metadata": {
        "colab": {
          "base_uri": "https://localhost:8080/"
        },
        "id": "7rC9Cv10VVti",
        "outputId": "d2d46fe0-2f67-4178-b228-990cee4d4ac9"
      },
      "execution_count": null,
      "outputs": [
        {
          "output_type": "stream",
          "name": "stdout",
          "text": [
            "Warning: Unexpected format for comparer output: 2. Piece 1 has a higher chance of commercial success.\n",
            "Warning: Unexpected format for comparer output: x,x\n",
            "Warning: Unexpected format for comparer output: \n"
          ]
        }
      ]
    },
    {
      "cell_type": "markdown",
      "source": [
        "#Create Bar Charts"
      ],
      "metadata": {
        "id": "lyjnn4dX88NB"
      }
    },
    {
      "cell_type": "code",
      "source": [
        "def plot_counts(results, group_by_column, legend_title):\n",
        "    # Group by 'First Piece' and the specified column, count occurrences\n",
        "    counts = results.groupby(['First Piece', group_by_column]).size().unstack()\n",
        "\n",
        "    # Plot\n",
        "    ax = counts.plot(kind='bar', stacked=False)\n",
        "    ax.set_xlabel('First Piece')\n",
        "    ax.set_ylabel('Counts')\n",
        "    plt.xticks(rotation=0)\n",
        "    plt.legend(title=legend_title)\n",
        "    plt.show()\n",
        "\n",
        "# Plot for 'Human Sounding'\n",
        "plot_counts(results, 'Human Sounding', 'Piece Selected For Human Sounding')\n",
        "\n",
        "# Plot for 'Commercial Success'\n",
        "plot_counts(results, 'Commercial Success', 'Piece Selected For Commercial Success')"
      ],
      "metadata": {
        "colab": {
          "base_uri": "https://localhost:8080/",
          "height": 881
        },
        "id": "SrV6r3fU0hEF",
        "outputId": "307459cb-e1c0-42e0-a6cd-7e47bc4ab33e"
      },
      "execution_count": null,
      "outputs": [
        {
          "output_type": "display_data",
          "data": {
            "text/plain": [
              "<Figure size 640x480 with 1 Axes>"
            ],
            "image/png": "[encoded data removed]"
          },
          "metadata": {}
        },
        {
          "output_type": "display_data",
          "data": {
            "text/plain": [
              "<Figure size 640x480 with 1 Axes>"
            ],
            "image/png": "[encoded data removed]"
          },
          "metadata": {}
        }
      ]
    }
  ],
  "metadata": {
    "colab": {
      "provenance": [],
      "include_colab_link": true
    },
    "kernelspec": {
      "display_name": "Python 3",
      "name": "python3"
    },
    "language_info": {
      "name": "python"
    }
  },
  "nbformat": 4,
  "nbformat_minor": 0
}